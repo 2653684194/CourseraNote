{
 "cells": [
  {
   "cell_type": "markdown",
   "id": "827e4115",
   "metadata": {},
   "source": [
    "# **Feedforward Propagation （前馈神经网路）**\n",
    "接下来使用已经训练好的数据搭建神经网络进行手写数字识别的预测\n",
    "下一个练习将会使用backpropagation algorithm（反向传播算法）训练神经网络"
   ]
  },
  {
   "cell_type": "markdown",
   "id": "20883865",
   "metadata": {},
   "source": [
    "![alt text](../img/神经元二元运算符.png)\n",
    "\n",
    "[注：图片源于《斯坦福大学2014机器学习教程个人笔记（V5.52）》\n",
    "黄海广 \n",
    "haiguang2000@qq.com \n",
    "]\n"
   ]
  },
  {
   "cell_type": "markdown",
   "id": "87dfc9db",
   "metadata": {},
   "source": [
    "通过这个图可以瞪眼法易知，神经网络可以弥补逻辑回归线性计算的不足（比如手写数字识别的数字在图片的相对位置等复杂情况）"
   ]
  },
  {
   "cell_type": "markdown",
   "id": "81c01b8e",
   "metadata": {},
   "source": [
    "要使用读取的神经网络权重信息搭建神经网络并进行预测，需要以下步骤：\n",
    "\n",
    "### 1. 读取权重文件\n",
    "首先，使用 `scipy.io.loadmat` 读取 `.mat` 文件中的权重信息。\n"
   ]
  },
  {
   "cell_type": "code",
   "execution_count": 1,
   "id": "c7038f6f",
   "metadata": {},
   "outputs": [],
   "source": [
    "import scipy.io\n",
    "\n",
    "# 加载权重文件\n",
    "weights = scipy.io.loadmat('ex3weights.mat')\n",
    "data = scipy.io.loadmat('ex3data1.mat')\n",
    "\n",
    "# 提取权重\n",
    "Theta1 = weights['Theta1']  # 输入层到隐藏层的权重\n",
    "Theta2 = weights['Theta2']  # 隐藏层到输出层的权重"
   ]
  },
  {
   "cell_type": "markdown",
   "id": "1f75d6ae",
   "metadata": {},
   "source": [
    "### 2. 搭建神经网络\n",
    "这是一个简单的2层神经网络（输入层、隐藏层、输出层），使用Sigmoid激活函数。\n"
   ]
  },
  {
   "cell_type": "code",
   "execution_count": 2,
   "id": "833a426b",
   "metadata": {},
   "outputs": [],
   "source": [
    "import numpy as np\n",
    "\n",
    "def sigmoid(z):\n",
    "    return 1 / (1 + np.exp(-z))\n",
    "\n",
    "def predict(Theta1, Theta2, X):\n",
    "    # 添加偏置单元\n",
    "    X = np.hstack([np.ones((X.shape[0], 1)), X])\n",
    "    \n",
    "    # 隐藏层计算\n",
    "    a2 = sigmoid(X @ Theta1.T)\n",
    "    \n",
    "    # 添加隐藏层的偏置单元\n",
    "    a2 = np.hstack([np.ones((a2.shape[0], 1)), a2])\n",
    "    \n",
    "    # 输出层计算\n",
    "    a3 = sigmoid(a2 @ Theta2.T)\n",
    "    \n",
    "    # 返回预测结果（概率最大的类别）\n",
    "    return np.argmax(a3, axis=1) + 1  # 类别从1开始"
   ]
  },
  {
   "cell_type": "markdown",
   "id": "e56def31",
   "metadata": {},
   "source": [
    "\n",
    "### 3. 准备输入数据\n",
    "假设输入数据 `X` 是一个形状为 `(m, n)` 的矩阵，其中 `m` 是样本数，`n` 是特征数。确保 `X` 已经标准化或预处理过。\n"
   ]
  },
  {
   "cell_type": "code",
   "execution_count": 3,
   "id": "21518dd9",
   "metadata": {},
   "outputs": [
    {
     "name": "stdout",
     "output_type": "stream",
     "text": [
      "随机选择的样本： [3820 2158 1588 1901 2867]\n"
     ]
    },
    {
     "data": {
      "text/plain": [
       "array([[0., 0., 0., ..., 0., 0., 0.],\n",
       "       [0., 0., 0., ..., 0., 0., 0.],\n",
       "       [0., 0., 0., ..., 0., 0., 0.],\n",
       "       [0., 0., 0., ..., 0., 0., 0.],\n",
       "       [0., 0., 0., ..., 0., 0., 0.]])"
      ]
     },
     "execution_count": 3,
     "metadata": {},
     "output_type": "execute_result"
    }
   ],
   "source": [
    "X = data['X']  # 输入特征\n",
    "random_indices = np.random.choice(X.shape[0], 5, replace=False)\n",
    "X_sample = X[random_indices, :]  # 随机选择100个样本\n",
    "print(\"随机选择的样本：\", random_indices)\n",
    "X_sample"
   ]
  },
  {
   "cell_type": "code",
   "execution_count": 4,
   "id": "f0dd1a35",
   "metadata": {},
   "outputs": [
    {
     "data": {
      "image/png": "[encoded data removed]",
      "text/plain": [
       "<Figure size 640x480 with 1 Axes>"
      ]
     },
     "metadata": {},
     "output_type": "display_data"
    }
   ],
   "source": [
    "#绘制抽中的样本\n",
    "import matplotlib.pyplot as plt\n",
    "def display_data(X):\n",
    "    m, n = X.shape # m是样本数，n是特征数\n",
    "    example_width = int(np.round(np.sqrt(n))) # 假设每个样本是一个正方形\n",
    "    example_height = n // example_width # 每个样本的高度  //（floor division)是向下取整\n",
    "    display_rows = int(np.floor(np.sqrt(m))) # 显示的行数, floor是向下取整\n",
    "    display_cols = int(np.ceil(m / display_rows)) # 显示的列数, ceil是向上取整\n",
    "    \n",
    "    pad = 1 # 每个样本之间的间隔, 1个像素, 黑框\n",
    "    display_array = -np.ones((pad + display_rows * (example_height + pad), \n",
    "                              pad + display_cols * (example_width + pad)))\n",
    "    \n",
    "    curr_ex = 0\n",
    "    for j in range(display_rows):\n",
    "        for i in range(display_cols):\n",
    "            if curr_ex >= m:\n",
    "                break\n",
    "            max_val = np.max(np.abs(X[curr_ex, :]))\n",
    "            row_start = pad + j * (example_height + pad)\n",
    "            col_start = pad + i * (example_width + pad)\n",
    "            display_array[row_start:row_start + example_height, \n",
    "                          col_start:col_start + example_width] = \\\n",
    "                X[curr_ex, :].reshape(example_height, example_width).T / max_val\n",
    "            curr_ex += 1\n",
    "    \n",
    "    plt.imshow(display_array, cmap='gray')\n",
    "    plt.axis('off')\n",
    "    plt.show()\n",
    "display_data(X_sample)"
   ]
  },
  {
   "cell_type": "markdown",
   "id": "65dc5bef",
   "metadata": {},
   "source": [
    "\n",
    "### 4. 进行预测\n",
    "调用 `predict` 函数进行预测。\n"
   ]
  },
  {
   "cell_type": "code",
   "execution_count": 5,
   "id": "f3e6a819",
   "metadata": {},
   "outputs": [
    {
     "name": "stdout",
     "output_type": "stream",
     "text": [
      "样本索引: 3820, 预测类别: 7, 真实类别: 7\n",
      "样本索引: 2158, 预测类别: 4, 真实类别: 4\n",
      "样本索引: 1588, 预测类别: 6, 真实类别: 3\n",
      "样本索引: 1901, 预测类别: 3, 真实类别: 3\n",
      "样本索引: 2867, 预测类别: 5, 真实类别: 5\n"
     ]
    }
   ],
   "source": [
    "predictions = predict(Theta1, Theta2, X_sample)\n",
    "y = data['y']\n",
    "for i in range(len(random_indices)):\n",
    "    print(f\"样本索引: {random_indices[i]}, 预测类别: {predictions[i]}, 真实类别: {y[random_indices[i]][0]}\")"
   ]
  },
  {
   "cell_type": "markdown",
   "id": "c1181c1c",
   "metadata": {},
   "source": [
    "\n",
    "### 5. 注意事项\n",
    "1. **输入数据预处理**：确保输入数据 `X` 已经标准化（与训练数据一致）。\n",
    "2. **权重维度**：检查 `Theta1` 和 `Theta2` 的维度是否与网络结构匹配。\n",
    "   - `Theta1` 的形状应为 `(hidden_units, input_units + 1)`。\n",
    "   - `Theta2` 的形状应为 `(output_units, hidden_units + 1)`。\n",
    "3. **类别编号**：预测结果的类别从1开始（如1到10）。\n",
    "\n",
    "如果有其他需求（如可视化、性能评估等），可以进一步扩展代码。"
   ]
  },
  {
   "cell_type": "markdown",
   "id": "3c929b1f",
   "metadata": {},
   "source": [
    "# 6.  计算准确率\n"
   ]
  },
  {
   "cell_type": "code",
   "execution_count": 6,
   "id": "1f8ba3ad",
   "metadata": {},
   "outputs": [
    {
     "name": "stdout",
     "output_type": "stream",
     "text": [
      "准确率为： 0.9752\n"
     ]
    }
   ],
   "source": [
    "# 计算准确率\n",
    "pre = predict(Theta1, Theta2, X)\n",
    "y = data['y']\n",
    "count = 0\n",
    "for i in range(len(y)):\n",
    "    if pre[i] == y[i]:\n",
    "        count+=1\n",
    "accuracy = count / len(y)\n",
    "print(\"准确率为：\", accuracy)"
   ]
  },
  {
   "attachments": {
    "Screenshot 2025-08-09 151327.png": {
     "image/png": "[encoded data removed]"
    }
   },
   "cell_type": "markdown",
   "id": "f51888dd",
   "metadata": {},
   "source": [
    "![Screenshot 2025-08-09 151327.png](<attachment:Screenshot 2025-08-09 151327.png>)"
   ]
  }
 ],
 "metadata": {
  "kernelspec": {
   "display_name": "Python 3",
   "language": "python",
   "name": "python3"
  },
  "language_info": {
   "codemirror_mode": {
    "name": "ipython",
    "version": 3
   },
   "file_extension": ".py",
   "mimetype": "text/x-python",
   "name": "python",
   "nbconvert_exporter": "python",
   "pygments_lexer": "ipython3",
   "version": "3.12.4"
  }
 },
 "nbformat": 4,
 "nbformat_minor": 5
}
